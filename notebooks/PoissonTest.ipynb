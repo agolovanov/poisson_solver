{
 "cells": [
  {
   "cell_type": "code",
   "execution_count": null,
   "metadata": {
    "collapsed": true
   },
   "outputs": [],
   "source": [
    "%matplotlib inline"
   ]
  },
  {
   "cell_type": "code",
   "execution_count": null,
   "metadata": {
    "collapsed": true
   },
   "outputs": [],
   "source": [
    "import matplotlib.pyplot as plt\n",
    "import numpy as np\n",
    "import math\n",
    "import numba\n",
    "from scipy import integrate, sparse, linalg, interpolate"
   ]
  },
  {
   "cell_type": "markdown",
   "metadata": {},
   "source": [
    "# Field of the point charge"
   ]
  },
  {
   "cell_type": "code",
   "execution_count": null,
   "metadata": {
    "collapsed": true
   },
   "outputs": [],
   "source": [
    "gamma_0 = 20\n",
    "v0 = np.sqrt(1 - gamma_0 ** -2)"
   ]
  },
  {
   "cell_type": "code",
   "execution_count": null,
   "metadata": {
    "collapsed": true
   },
   "outputs": [],
   "source": [
    "A_z = lambda xi, r: gamma_0 * v0 / 4 / np.pi / np.sqrt(gamma_0 ** 2 * xi ** 2 + r ** 2)"
   ]
  },
  {
   "cell_type": "code",
   "execution_count": null,
   "metadata": {
    "collapsed": true
   },
   "outputs": [],
   "source": [
    "xi = np.linspace(-2, 2, 300)\n",
    "r = np.linspace(0, 2, 300)\n",
    "xx, yy = np.meshgrid(xi, r)"
   ]
  },
  {
   "cell_type": "code",
   "execution_count": null,
   "metadata": {},
   "outputs": [],
   "source": [
    "plt.pcolormesh(xx, yy, A_z(xx, yy), vmin=-0.1, vmax=0.1, cmap='RdBu_r')"
   ]
  },
  {
   "cell_type": "code",
   "execution_count": null,
   "metadata": {
    "collapsed": true
   },
   "outputs": [],
   "source": [
    "E_z = lambda xi, r: gamma_0 * xi / 4 / np.pi / (gamma_0 ** 2 * xi ** 2 + r ** 2) ** 1.5"
   ]
  },
  {
   "cell_type": "code",
   "execution_count": null,
   "metadata": {},
   "outputs": [],
   "source": [
    "plt.pcolormesh(xx, yy, E_z(xx, yy), vmin=-0.1, vmax=0.1, cmap='RdBu_r')"
   ]
  },
  {
   "cell_type": "code",
   "execution_count": null,
   "metadata": {
    "collapsed": true
   },
   "outputs": [],
   "source": [
    "E_r = lambda xi, r: gamma_0 * r / 4 / np.pi / (gamma_0 ** 2 * xi ** 2 + r ** 2) ** 1.5"
   ]
  },
  {
   "cell_type": "code",
   "execution_count": null,
   "metadata": {},
   "outputs": [],
   "source": [
    "plt.pcolormesh(xx, yy, E_r(xx, yy), vmin=-0.1, vmax=0.1, cmap='RdBu_r')"
   ]
  },
  {
   "cell_type": "code",
   "execution_count": null,
   "metadata": {
    "collapsed": true
   },
   "outputs": [],
   "source": [
    "B_phi = lambda xi, r: - v0 * E_r (xi, r)"
   ]
  },
  {
   "cell_type": "code",
   "execution_count": null,
   "metadata": {},
   "outputs": [],
   "source": [
    "plt.pcolormesh(xx, yy, B_phi(xx, yy), vmin=-0.1, vmax=0.1, cmap='RdBu_r')"
   ]
  },
  {
   "cell_type": "markdown",
   "metadata": {},
   "source": [
    "# Bunch"
   ]
  },
  {
   "cell_type": "code",
   "execution_count": null,
   "metadata": {
    "collapsed": true
   },
   "outputs": [],
   "source": [
    "gamma0 = 3\n",
    "v0 = np.sqrt(1 - gamma_0 ** -2)\n",
    "\n",
    "@numba.jit\n",
    "def distance_sq(xi, xi1, r, r1, phi):\n",
    "    return gamma0 ** 2 * (xi - xi1) ** 2 + r ** 2 + r1 ** 2 - 2 * r * r1 * math.cos(phi)\n",
    "\n",
    "def integrate_over_bunch(func, xi=0., r=0., halflength=1., radius=1.):\n",
    "    return integrate.tplquad(numba.jit(lambda phi, r1, xi1: func(xi, xi1, r, r1, phi)),\n",
    "                             -halflength, halflength,\n",
    "                             lambda x: 0., lambda x: radius,\n",
    "                             lambda x,y: 0., lambda x,y: 2 * np.pi)[0]\n",
    "\n",
    "def potential(xi, r):\n",
    "    integrand = numba.jit(lambda xi, xi1, r, r1, phi: gamma0 / 4 / math.pi * r1 / math.sqrt(distance_sq(xi, xi1, r, r1, phi)))\n",
    "    return integrate_over_bunch(integrand, xi, r)"
   ]
  },
  {
   "cell_type": "code",
   "execution_count": null,
   "metadata": {},
   "outputs": [],
   "source": [
    "potential(0., 1.)"
   ]
  },
  {
   "cell_type": "code",
   "execution_count": null,
   "metadata": {
    "collapsed": true
   },
   "outputs": [],
   "source": [
    "r = np.linspace(0, 1,)"
   ]
  },
  {
   "cell_type": "markdown",
   "metadata": {},
   "source": [
    "# Poisson solver"
   ]
  },
  {
   "cell_type": "code",
   "execution_count": null,
   "metadata": {
    "collapsed": true
   },
   "outputs": [],
   "source": [
    "import sys\n",
    "sys.path.append('..')\n",
    "import poisson"
   ]
  },
  {
   "cell_type": "code",
   "execution_count": null,
   "metadata": {},
   "outputs": [],
   "source": [
    "gamma0 = 10\n",
    "solver = poisson.PoissonCylindric(zmin = -7, zmax = 7, rmax = 15, dr = 0.025, dz = 0.0125, gamma0=gamma0)"
   ]
  },
  {
   "cell_type": "code",
   "execution_count": null,
   "metadata": {},
   "outputs": [],
   "source": [
    "#func = np.vectorize(lambda x, r: (1-x**2) * (1-r**2) if np.abs(x) < 1 and r < 1 else 0.0)\n",
    "@np.vectorize\n",
    "def func(x, r):\n",
    "    if np.abs(x) > 1:\n",
    "        return 0.0\n",
    "    else:\n",
    "        if r < 1:\n",
    "            return (1 - x ** 2)\n",
    "        elif r < np.sqrt(2):\n",
    "            return - (1 - x ** 2)\n",
    "        else:\n",
    "            return 0\n",
    "    \n",
    "x, r, u = solver.solve(func)"
   ]
  },
  {
   "cell_type": "code",
   "execution_count": null,
   "metadata": {},
   "outputs": [],
   "source": [
    "plt.pcolormesh(x, r, func(x,r), cmap='RdBu_r')\n",
    "plt.colorbar()"
   ]
  },
  {
   "cell_type": "code",
   "execution_count": null,
   "metadata": {},
   "outputs": [],
   "source": [
    "def plot_dist(f):\n",
    "    plt.pcolormesh(x, r, f, vmin=-np.abs(f).max(), vmax=np.abs(f).max(), cmap='RdBu_r')\n",
    "    plt.colorbar()\n",
    "\n",
    "plot_dist(u)"
   ]
  },
  {
   "cell_type": "code",
   "execution_count": null,
   "metadata": {},
   "outputs": [],
   "source": [
    "func = np.vectorize(lambda z: -gamma0 * 0.5 * integrate.quad(lambda z1: math.sqrt(1 + gamma0 **2 * (z - z1) ** 2) - gamma0 * abs(z - z1), -1, 1)[0])\n",
    "plt.plot(solver.z1d, u[0])\n",
    "plt.plot(solver.z1d, func(solver.z1d))"
   ]
  },
  {
   "cell_type": "code",
   "execution_count": null,
   "metadata": {
    "collapsed": true
   },
   "outputs": [],
   "source": [
    "def dist_func(f):\n",
    "    return np.vectorize(interpolate.interp2d(solver.z1d, solver.r1d, f))"
   ]
  },
  {
   "cell_type": "code",
   "execution_count": null,
   "metadata": {},
   "outputs": [],
   "source": [
    "Az = - solver.v0 * u\n",
    "plot_dist(Az)"
   ]
  },
  {
   "cell_type": "code",
   "execution_count": null,
   "metadata": {},
   "outputs": [],
   "source": [
    "plt.plot(solver.r1d, dist_func(Az)(0, solver.r1d))\n",
    "plt.plot(solver.r1d, dist_func(Az)(0.5, solver.r1d))\n",
    "plt.plot(solver.r1d, dist_func(Az)(1, solver.r1d))\n",
    "plt.plot(solver.r1d, dist_func(Az)(1.5, solver.r1d))"
   ]
  },
  {
   "cell_type": "code",
   "execution_count": null,
   "metadata": {},
   "outputs": [],
   "source": [
    "dur, duz = np.gradient(u, solver.dr, solver.dz)"
   ]
  },
  {
   "cell_type": "code",
   "execution_count": null,
   "metadata": {},
   "outputs": [],
   "source": [
    "Ez = duz / gamma0 ** 2\n",
    "plot(Ez)"
   ]
  },
  {
   "cell_type": "code",
   "execution_count": null,
   "metadata": {},
   "outputs": [],
   "source": [
    "Er = dur\n",
    "plot(Er)"
   ]
  },
  {
   "cell_type": "code",
   "execution_count": null,
   "metadata": {},
   "outputs": [],
   "source": [
    "#field_func = np.vectorize(lambda r: 0.5 * r if r < 1 else 0.5 / r)\n",
    "#field_func = np.vectorize(lambda r: 0.25 * r ** 2 * (2 - r ** 2) if r < 1 else 0.25 / r)\n",
    "@np.vectorize\n",
    "def field_func(r):\n",
    "    if r < 1:\n",
    "        return 0.5 * r\n",
    "    elif r < np.sqrt(2):\n",
    "        return 1 / np.sqrt(r) - r / 2\n",
    "    else:\n",
    "        return 0\n",
    "plt.plot(solver.r1d, dist_func(Er)(0, solver.r1d))\n",
    "plt.plot(solver.r1d, field_func(solver.r1d), '--')"
   ]
  },
  {
   "cell_type": "code",
   "execution_count": null,
   "metadata": {},
   "outputs": [],
   "source": [
    "plt.contour(x, r, np.sqrt(Ez ** 2 + Er ** 2), levels=[0.01, 0.05, 0.1])"
   ]
  },
  {
   "cell_type": "code",
   "execution_count": null,
   "metadata": {},
   "outputs": [],
   "source": [
    "Bphi = - solver.v0 * dur\n",
    "plot(Bphi)"
   ]
  },
  {
   "cell_type": "code",
   "execution_count": null,
   "metadata": {},
   "outputs": [],
   "source": [
    "plt.plot(solver.r1d, dist_func(Bphi)(0.0, solver.r1d))\n",
    "plt.plot(solver.r1d, -field_func(solver.r1d), '--')"
   ]
  },
  {
   "cell_type": "code",
   "execution_count": null,
   "metadata": {},
   "outputs": [],
   "source": [
    "@np.vectorize\n",
    "def pot_func(r):\n",
    "    if r > np.sqrt(2):\n",
    "        return 0.\n",
    "    elif r > 1:\n",
    "        return -(np.log(np.sqrt(2) / r) - 0.5 + 0.25 * r ** 2)\n",
    "    else:\n",
    "        return -(np.log(np.sqrt(2)) - 0.25 * r ** 2)\n",
    "\n",
    "plt.plot(solver.r1d, dist_func(u)(0, solver.r1d))\n",
    "plt.plot(solver.r1d, pot_func(solver.r1d))"
   ]
  },
  {
   "cell_type": "code",
   "execution_count": null,
   "metadata": {},
   "outputs": [],
   "source": [
    "pot_func(1.1)"
   ]
  },
  {
   "cell_type": "markdown",
   "metadata": {},
   "source": [
    "# Exact solution at (0,0)"
   ]
  },
  {
   "cell_type": "code",
   "execution_count": null,
   "metadata": {
    "collapsed": true
   },
   "outputs": [],
   "source": [
    "def density(x, r):\n",
    "    if abs(x) > 1:\n",
    "        return 0.0\n",
    "    else:\n",
    "        if r < 1.0:\n",
    "            return (1.0 - x ** 2)\n",
    "        elif r < math.sqrt(2):\n",
    "            return - (1.0 - x ** 2)\n",
    "        else:\n",
    "            return 0.0"
   ]
  },
  {
   "cell_type": "code",
   "execution_count": null,
   "metadata": {},
   "outputs": [],
   "source": [
    "%timeit np.vectorize(density)(x, r)"
   ]
  },
  {
   "cell_type": "code",
   "execution_count": null,
   "metadata": {},
   "outputs": [],
   "source": [
    "plt.pcolormesh(x, r, np.vectorize(density)(x, r))"
   ]
  },
  {
   "cell_type": "code",
   "execution_count": null,
   "metadata": {},
   "outputs": [],
   "source": [
    "d = numba.jit(density, nopython=True)\n",
    "%timeit d(0.0, 0.0)\n",
    "%timeit density(0.0, 0.0)"
   ]
  },
  {
   "cell_type": "code",
   "execution_count": null,
   "metadata": {},
   "outputs": [],
   "source": [
    "def answer(gamma0, x0):\n",
    "    return -0.5 * gamma0 * integrate.dblquad(\n",
    "        lambda r, x: density(x, r) * r / math.sqrt(gamma0 ** 2 * (x - x0) ** 2 + r**2), \n",
    "        -1, 1, lambda x:0, lambda x:math.sqrt(2))[0]"
   ]
  },
  {
   "cell_type": "code",
   "execution_count": null,
   "metadata": {},
   "outputs": [],
   "source": [
    "answer(10,0)"
   ]
  },
  {
   "cell_type": "code",
   "execution_count": null,
   "metadata": {},
   "outputs": [],
   "source": [
    "np.log(np.sqrt(2))"
   ]
  },
  {
   "cell_type": "code",
   "execution_count": null,
   "metadata": {},
   "outputs": [],
   "source": [
    "x0 = np.linspace(-1.5, 1.5, 100)\n",
    "plt.plot(x0, [answer(10, x) for x in x0])\n",
    "plt.plot(x0, -np.vectorize(lambda x: (1 - x0 **2) if x < 1 else 0.0)(x0) * np.log(np.sqrt(2)))"
   ]
  },
  {
   "cell_type": "code",
   "execution_count": null,
   "metadata": {},
   "outputs": [],
   "source": [
    "%timeit answer(10, 0)"
   ]
  },
  {
   "cell_type": "code",
   "execution_count": null,
   "metadata": {
    "collapsed": true
   },
   "outputs": [],
   "source": []
  }
 ],
 "metadata": {
  "kernelspec": {
   "display_name": "Python 3",
   "language": "python",
   "name": "python3"
  },
  "language_info": {
   "codemirror_mode": {
    "name": "ipython",
    "version": 3
   },
   "file_extension": ".py",
   "mimetype": "text/x-python",
   "name": "python",
   "nbconvert_exporter": "python",
   "pygments_lexer": "ipython3",
   "version": "3.6.2"
  }
 },
 "nbformat": 4,
 "nbformat_minor": 2
}
